{
 "cells": [
  {
   "cell_type": "markdown",
   "metadata": {},
   "source": [
    "# Making A Phylogenetic Tree (Take Two!)\n",
    "\n",
    "Phylogenetic trees help us show relationships between species. In this practical we will:\n",
    "- Use genetic distances from human populations to explore how different human populations are connected to each other!!!"
   ]
  },
  {
   "cell_type": "code",
   "execution_count": null,
   "metadata": {},
   "outputs": [],
   "source": [
    "# Import libraries\n",
    "#why do we need these??\n",
    "from Bio import Phylo\n",
    "from Bio.Phylo.TreeConstruction import DistanceCalculator\n",
    "from Bio.Phylo.TreeConstruction import DistanceTreeConstructor\n",
    "from Bio import AlignIO"
   ]
  },
  {
   "cell_type": "markdown",
   "metadata": {},
   "source": [
    "- Use the print() function to look at your data \n",
    "- What is the variable name?\n",
    "- How many populations are there?"
   ]
  },
  {
   "cell_type": "code",
   "execution_count": null,
   "metadata": {},
   "outputs": [],
   "source": [
    "# Read the sequences \n",
    "# What does alignment do\n",
    "hum = AlignIO.read('test.phy', 'phylip')\n",
    "\n",
    "# Print the alignment\n",
    "print()\n"
   ]
  },
  {
   "cell_type": "markdown",
   "metadata": {},
   "source": [
    "- In the next block we will \"match up\" the sequences to see how similar they are\n",
    "- Fill in the variable name for your data in the brackets which are blank\n",
    "- We will recieve a number for each pair\n",
    "- Do you remember what these mean???\n",
    "- Use print() to print these numbers which are in the variable dm\n",
    "- Which populations seem similar? "
   ]
  },
  {
   "cell_type": "code",
   "execution_count": null,
   "metadata": {},
   "outputs": [],
   "source": [
    "# Calculate the distance matrix\n",
    "calculator = DistanceCalculator('identity')\n",
    "dm = calculator.get_distance()\n",
    "\n",
    "# Print the distance Matrix\n",
    "print(dm)\n"
   ]
  },
  {
   "cell_type": "markdown",
   "metadata": {},
   "source": [
    "- Finally we can show these similarities using a phylogenetic tree.\n",
    "- I have told python that our tree will be called mytree\n",
    "- In order to finish the tree insert mytree in the third blank you see\n",
    "- Which are populations are the most similar?? Does this make sense?"
   ]
  },
  {
   "cell_type": "code",
   "execution_count": null,
   "metadata": {},
   "outputs": [],
   "source": [
    "# Construct the phylogenetic tree using UPGMA algorithm\n",
    "constructor = DistanceTreeConstructor()\n",
    "mytree = constructor.upgma(dm)\n",
    "\n",
    "# Print the phylogenetic tree!!\n",
    "print('')\n",
    "Phylo.draw_ascii()"
   ]
  },
  {
   "cell_type": "markdown",
   "metadata": {},
   "source": [
    "\n",
    "- We will use another tree method\n",
    "- Put mytree2 in the last blank\n",
    "- Compare the two trees!!!\n",
    "- What are the main differences you can see?? What do you think they mean??\n",
    "- After we will look at a map of the world, does the genetic data match the geographical data?"
   ]
  },
  {
   "cell_type": "code",
   "execution_count": null,
   "metadata": {},
   "outputs": [],
   "source": [
    "# Construct the phylogenetic tree using nj algorithm\n",
    "constructor = DistanceTreeConstructor()\n",
    "mytree2 = constructor.nj(dm)\n",
    "\n",
    "\n",
    "# Print the phylogenetic tree!\n",
    "Phylo.draw_ascii()\n"
   ]
  }
 ],
 "metadata": {
  "kernelspec": {
   "display_name": "Python 3",
   "language": "python",
   "name": "python3"
  },
  "language_info": {
   "codemirror_mode": {
    "name": "ipython",
    "version": 3
   },
   "file_extension": ".py",
   "mimetype": "text/x-python",
   "name": "python",
   "nbconvert_exporter": "python",
   "pygments_lexer": "ipython3",
   "version": "3.7.8"
  }
 },
 "nbformat": 4,
 "nbformat_minor": 4
}
